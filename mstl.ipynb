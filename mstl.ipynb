{
 "cells": [
  {
   "cell_type": "code",
   "execution_count": 2,
   "metadata": {},
   "outputs": [],
   "source": [
    "import pandas as pd\n",
    "from tqdm.autonotebook import tqdm\n",
    "from statsforecast import StatsForecast\n",
    "from statsforecast.models import MSTL, AutoARIMA\n"
   ]
  },
  {
   "cell_type": "code",
   "execution_count": 3,
   "metadata": {},
   "outputs": [],
   "source": [
    "df_all = pd.read_csv('./data/20230316.csv')"
   ]
  },
  {
   "cell_type": "code",
   "execution_count": 28,
   "metadata": {},
   "outputs": [
    {
     "data": {
      "text/html": [
       "<div>\n",
       "<style scoped>\n",
       "    .dataframe tbody tr th:only-of-type {\n",
       "        vertical-align: middle;\n",
       "    }\n",
       "\n",
       "    .dataframe tbody tr th {\n",
       "        vertical-align: top;\n",
       "    }\n",
       "\n",
       "    .dataframe thead th {\n",
       "        text-align: right;\n",
       "    }\n",
       "</style>\n",
       "<table border=\"1\" class=\"dataframe\">\n",
       "  <thead>\n",
       "    <tr style=\"text-align: right;\">\n",
       "      <th></th>\n",
       "      <th>年月</th>\n",
       "      <th>ds</th>\n",
       "      <th>unique_id</th>\n",
       "      <th>物料描述</th>\n",
       "      <th>y</th>\n",
       "      <th>折前含税金额</th>\n",
       "    </tr>\n",
       "  </thead>\n",
       "  <tbody>\n",
       "    <tr>\n",
       "      <th>0</th>\n",
       "      <td>202107</td>\n",
       "      <td>2021-07-02</td>\n",
       "      <td>000E155E93AC7F454684F7B48B59C169</td>\n",
       "      <td>8D38C7EE71FCF40E0B462865A54E4193</td>\n",
       "      <td>2</td>\n",
       "      <td>485.61</td>\n",
       "    </tr>\n",
       "    <tr>\n",
       "      <th>1</th>\n",
       "      <td>202107</td>\n",
       "      <td>2021-07-21</td>\n",
       "      <td>000E155E93AC7F454684F7B48B59C169</td>\n",
       "      <td>8D38C7EE71FCF40E0B462865A54E4193</td>\n",
       "      <td>1</td>\n",
       "      <td>242.80</td>\n",
       "    </tr>\n",
       "    <tr>\n",
       "      <th>2</th>\n",
       "      <td>202111</td>\n",
       "      <td>2021-11-15</td>\n",
       "      <td>000E155E93AC7F454684F7B48B59C169</td>\n",
       "      <td>8D38C7EE71FCF40E0B462865A54E4193</td>\n",
       "      <td>1</td>\n",
       "      <td>242.80</td>\n",
       "    </tr>\n",
       "    <tr>\n",
       "      <th>3</th>\n",
       "      <td>202203</td>\n",
       "      <td>2022-03-14</td>\n",
       "      <td>000E155E93AC7F454684F7B48B59C169</td>\n",
       "      <td>8D38C7EE71FCF40E0B462865A54E4193</td>\n",
       "      <td>1</td>\n",
       "      <td>242.80</td>\n",
       "    </tr>\n",
       "    <tr>\n",
       "      <th>4</th>\n",
       "      <td>202203</td>\n",
       "      <td>2022-03-28</td>\n",
       "      <td>000E155E93AC7F454684F7B48B59C169</td>\n",
       "      <td>8D38C7EE71FCF40E0B462865A54E4193</td>\n",
       "      <td>1</td>\n",
       "      <td>242.80</td>\n",
       "    </tr>\n",
       "    <tr>\n",
       "      <th>...</th>\n",
       "      <td>...</td>\n",
       "      <td>...</td>\n",
       "      <td>...</td>\n",
       "      <td>...</td>\n",
       "      <td>...</td>\n",
       "      <td>...</td>\n",
       "    </tr>\n",
       "    <tr>\n",
       "      <th>780791</th>\n",
       "      <td>202203</td>\n",
       "      <td>2022-03-10</td>\n",
       "      <td>FFF90569896E3C1C6AC75141DD94F4E5</td>\n",
       "      <td>AB68CE8C1084C9768D55FAAF6439CDE1</td>\n",
       "      <td>1</td>\n",
       "      <td>28.28</td>\n",
       "    </tr>\n",
       "    <tr>\n",
       "      <th>780792</th>\n",
       "      <td>202203</td>\n",
       "      <td>2022-03-28</td>\n",
       "      <td>FFF90569896E3C1C6AC75141DD94F4E5</td>\n",
       "      <td>AB68CE8C1084C9768D55FAAF6439CDE1</td>\n",
       "      <td>1</td>\n",
       "      <td>28.28</td>\n",
       "    </tr>\n",
       "    <tr>\n",
       "      <th>780793</th>\n",
       "      <td>202207</td>\n",
       "      <td>2022-07-06</td>\n",
       "      <td>FFF90569896E3C1C6AC75141DD94F4E5</td>\n",
       "      <td>AB68CE8C1084C9768D55FAAF6439CDE1</td>\n",
       "      <td>1</td>\n",
       "      <td>28.28</td>\n",
       "    </tr>\n",
       "    <tr>\n",
       "      <th>780794</th>\n",
       "      <td>202208</td>\n",
       "      <td>2022-08-02</td>\n",
       "      <td>FFF90569896E3C1C6AC75141DD94F4E5</td>\n",
       "      <td>AB68CE8C1084C9768D55FAAF6439CDE1</td>\n",
       "      <td>1</td>\n",
       "      <td>28.28</td>\n",
       "    </tr>\n",
       "    <tr>\n",
       "      <th>780795</th>\n",
       "      <td>202210</td>\n",
       "      <td>2022-10-17</td>\n",
       "      <td>FFF90569896E3C1C6AC75141DD94F4E5</td>\n",
       "      <td>AB68CE8C1084C9768D55FAAF6439CDE1</td>\n",
       "      <td>1</td>\n",
       "      <td>32.52</td>\n",
       "    </tr>\n",
       "  </tbody>\n",
       "</table>\n",
       "<p>780796 rows × 6 columns</p>\n",
       "</div>"
      ],
      "text/plain": [
       "            年月         ds                         unique_id  \\\n",
       "0       202107 2021-07-02  000E155E93AC7F454684F7B48B59C169   \n",
       "1       202107 2021-07-21  000E155E93AC7F454684F7B48B59C169   \n",
       "2       202111 2021-11-15  000E155E93AC7F454684F7B48B59C169   \n",
       "3       202203 2022-03-14  000E155E93AC7F454684F7B48B59C169   \n",
       "4       202203 2022-03-28  000E155E93AC7F454684F7B48B59C169   \n",
       "...        ...        ...                               ...   \n",
       "780791  202203 2022-03-10  FFF90569896E3C1C6AC75141DD94F4E5   \n",
       "780792  202203 2022-03-28  FFF90569896E3C1C6AC75141DD94F4E5   \n",
       "780793  202207 2022-07-06  FFF90569896E3C1C6AC75141DD94F4E5   \n",
       "780794  202208 2022-08-02  FFF90569896E3C1C6AC75141DD94F4E5   \n",
       "780795  202210 2022-10-17  FFF90569896E3C1C6AC75141DD94F4E5   \n",
       "\n",
       "                                    物料描述  y  折前含税金额  \n",
       "0       8D38C7EE71FCF40E0B462865A54E4193  2  485.61  \n",
       "1       8D38C7EE71FCF40E0B462865A54E4193  1  242.80  \n",
       "2       8D38C7EE71FCF40E0B462865A54E4193  1  242.80  \n",
       "3       8D38C7EE71FCF40E0B462865A54E4193  1  242.80  \n",
       "4       8D38C7EE71FCF40E0B462865A54E4193  1  242.80  \n",
       "...                                  ... ..     ...  \n",
       "780791  AB68CE8C1084C9768D55FAAF6439CDE1  1   28.28  \n",
       "780792  AB68CE8C1084C9768D55FAAF6439CDE1  1   28.28  \n",
       "780793  AB68CE8C1084C9768D55FAAF6439CDE1  1   28.28  \n",
       "780794  AB68CE8C1084C9768D55FAAF6439CDE1  1   28.28  \n",
       "780795  AB68CE8C1084C9768D55FAAF6439CDE1  1   32.52  \n",
       "\n",
       "[780796 rows x 6 columns]"
      ]
     },
     "execution_count": 28,
     "metadata": {},
     "output_type": "execute_result"
    }
   ],
   "source": [
    "df_all"
   ]
  },
  {
   "cell_type": "code",
   "execution_count": 29,
   "metadata": {},
   "outputs": [
    {
     "data": {
      "text/html": [
       "<div>\n",
       "<style scoped>\n",
       "    .dataframe tbody tr th:only-of-type {\n",
       "        vertical-align: middle;\n",
       "    }\n",
       "\n",
       "    .dataframe tbody tr th {\n",
       "        vertical-align: top;\n",
       "    }\n",
       "\n",
       "    .dataframe thead th {\n",
       "        text-align: right;\n",
       "    }\n",
       "</style>\n",
       "<table border=\"1\" class=\"dataframe\">\n",
       "  <thead>\n",
       "    <tr style=\"text-align: right;\">\n",
       "      <th></th>\n",
       "      <th>年月</th>\n",
       "      <th>ds</th>\n",
       "      <th>unique_id</th>\n",
       "      <th>物料描述</th>\n",
       "      <th>y</th>\n",
       "      <th>折前含税金额</th>\n",
       "    </tr>\n",
       "  </thead>\n",
       "  <tbody>\n",
       "    <tr>\n",
       "      <th>51120</th>\n",
       "      <td>202101</td>\n",
       "      <td>2021-01-03</td>\n",
       "      <td>101A42AA99AD3DA0CDF73321C73C9998</td>\n",
       "      <td>A055FC640D944532AEF2C8F0835C16C2</td>\n",
       "      <td>2</td>\n",
       "      <td>3400.00</td>\n",
       "    </tr>\n",
       "    <tr>\n",
       "      <th>51121</th>\n",
       "      <td>202101</td>\n",
       "      <td>2021-01-05</td>\n",
       "      <td>101A42AA99AD3DA0CDF73321C73C9998</td>\n",
       "      <td>A055FC640D944532AEF2C8F0835C16C2</td>\n",
       "      <td>1</td>\n",
       "      <td>1699.99</td>\n",
       "    </tr>\n",
       "    <tr>\n",
       "      <th>51122</th>\n",
       "      <td>202101</td>\n",
       "      <td>2021-01-06</td>\n",
       "      <td>101A42AA99AD3DA0CDF73321C73C9998</td>\n",
       "      <td>A055FC640D944532AEF2C8F0835C16C2</td>\n",
       "      <td>1</td>\n",
       "      <td>1699.99</td>\n",
       "    </tr>\n",
       "    <tr>\n",
       "      <th>51123</th>\n",
       "      <td>202101</td>\n",
       "      <td>2021-01-07</td>\n",
       "      <td>101A42AA99AD3DA0CDF73321C73C9998</td>\n",
       "      <td>A055FC640D944532AEF2C8F0835C16C2</td>\n",
       "      <td>2</td>\n",
       "      <td>3400.00</td>\n",
       "    </tr>\n",
       "    <tr>\n",
       "      <th>51124</th>\n",
       "      <td>202101</td>\n",
       "      <td>2021-01-08</td>\n",
       "      <td>101A42AA99AD3DA0CDF73321C73C9998</td>\n",
       "      <td>A055FC640D944532AEF2C8F0835C16C2</td>\n",
       "      <td>1</td>\n",
       "      <td>1699.99</td>\n",
       "    </tr>\n",
       "    <tr>\n",
       "      <th>...</th>\n",
       "      <td>...</td>\n",
       "      <td>...</td>\n",
       "      <td>...</td>\n",
       "      <td>...</td>\n",
       "      <td>...</td>\n",
       "      <td>...</td>\n",
       "    </tr>\n",
       "    <tr>\n",
       "      <th>51354</th>\n",
       "      <td>202302</td>\n",
       "      <td>2023-02-03</td>\n",
       "      <td>101A42AA99AD3DA0CDF73321C73C9998</td>\n",
       "      <td>A055FC640D944532AEF2C8F0835C16C2</td>\n",
       "      <td>1</td>\n",
       "      <td>2052.75</td>\n",
       "    </tr>\n",
       "    <tr>\n",
       "      <th>51355</th>\n",
       "      <td>202302</td>\n",
       "      <td>2023-02-13</td>\n",
       "      <td>101A42AA99AD3DA0CDF73321C73C9998</td>\n",
       "      <td>A055FC640D944532AEF2C8F0835C16C2</td>\n",
       "      <td>2</td>\n",
       "      <td>4105.50</td>\n",
       "    </tr>\n",
       "    <tr>\n",
       "      <th>51356</th>\n",
       "      <td>202302</td>\n",
       "      <td>2023-02-19</td>\n",
       "      <td>101A42AA99AD3DA0CDF73321C73C9998</td>\n",
       "      <td>A055FC640D944532AEF2C8F0835C16C2</td>\n",
       "      <td>1</td>\n",
       "      <td>2052.75</td>\n",
       "    </tr>\n",
       "    <tr>\n",
       "      <th>51357</th>\n",
       "      <td>202302</td>\n",
       "      <td>2023-02-20</td>\n",
       "      <td>101A42AA99AD3DA0CDF73321C73C9998</td>\n",
       "      <td>A055FC640D944532AEF2C8F0835C16C2</td>\n",
       "      <td>1</td>\n",
       "      <td>2052.75</td>\n",
       "    </tr>\n",
       "    <tr>\n",
       "      <th>51358</th>\n",
       "      <td>202302</td>\n",
       "      <td>2023-02-24</td>\n",
       "      <td>101A42AA99AD3DA0CDF73321C73C9998</td>\n",
       "      <td>A055FC640D944532AEF2C8F0835C16C2</td>\n",
       "      <td>5</td>\n",
       "      <td>10263.74</td>\n",
       "    </tr>\n",
       "  </tbody>\n",
       "</table>\n",
       "<p>239 rows × 6 columns</p>\n",
       "</div>"
      ],
      "text/plain": [
       "           年月         ds                         unique_id  \\\n",
       "51120  202101 2021-01-03  101A42AA99AD3DA0CDF73321C73C9998   \n",
       "51121  202101 2021-01-05  101A42AA99AD3DA0CDF73321C73C9998   \n",
       "51122  202101 2021-01-06  101A42AA99AD3DA0CDF73321C73C9998   \n",
       "51123  202101 2021-01-07  101A42AA99AD3DA0CDF73321C73C9998   \n",
       "51124  202101 2021-01-08  101A42AA99AD3DA0CDF73321C73C9998   \n",
       "...       ...        ...                               ...   \n",
       "51354  202302 2023-02-03  101A42AA99AD3DA0CDF73321C73C9998   \n",
       "51355  202302 2023-02-13  101A42AA99AD3DA0CDF73321C73C9998   \n",
       "51356  202302 2023-02-19  101A42AA99AD3DA0CDF73321C73C9998   \n",
       "51357  202302 2023-02-20  101A42AA99AD3DA0CDF73321C73C9998   \n",
       "51358  202302 2023-02-24  101A42AA99AD3DA0CDF73321C73C9998   \n",
       "\n",
       "                                   物料描述  y    折前含税金额  \n",
       "51120  A055FC640D944532AEF2C8F0835C16C2  2   3400.00  \n",
       "51121  A055FC640D944532AEF2C8F0835C16C2  1   1699.99  \n",
       "51122  A055FC640D944532AEF2C8F0835C16C2  1   1699.99  \n",
       "51123  A055FC640D944532AEF2C8F0835C16C2  2   3400.00  \n",
       "51124  A055FC640D944532AEF2C8F0835C16C2  1   1699.99  \n",
       "...                                 ... ..       ...  \n",
       "51354  A055FC640D944532AEF2C8F0835C16C2  1   2052.75  \n",
       "51355  A055FC640D944532AEF2C8F0835C16C2  2   4105.50  \n",
       "51356  A055FC640D944532AEF2C8F0835C16C2  1   2052.75  \n",
       "51357  A055FC640D944532AEF2C8F0835C16C2  1   2052.75  \n",
       "51358  A055FC640D944532AEF2C8F0835C16C2  5  10263.74  \n",
       "\n",
       "[239 rows x 6 columns]"
      ]
     },
     "execution_count": 29,
     "metadata": {},
     "output_type": "execute_result"
    }
   ],
   "source": [
    "df_all[df_all['unique_id']=='101A42AA99AD3DA0CDF73321C73C9998']"
   ]
  },
  {
   "cell_type": "code",
   "execution_count": 8,
   "metadata": {},
   "outputs": [
    {
     "data": {
      "text/plain": [
       "13655"
      ]
     },
     "execution_count": 8,
     "metadata": {},
     "output_type": "execute_result"
    }
   ],
   "source": [
    "len(df_all['物料编码'].unique())"
   ]
  },
  {
   "cell_type": "code",
   "execution_count": 5,
   "metadata": {},
   "outputs": [],
   "source": [
    "df_all = df_all.rename(columns={'销售凭证日期':'ds','物料编码':'unique_id','进单数量':'y'})"
   ]
  },
  {
   "cell_type": "code",
   "execution_count": 6,
   "metadata": {},
   "outputs": [],
   "source": [
    "df_all['ds']= pd.to_datetime(df_all['ds'],format='%Y%m%d')\n",
    "df_all = df_all.sort_values(['unique_id', 'ds']).reset_index(drop=True)"
   ]
  },
  {
   "cell_type": "code",
   "execution_count": 23,
   "metadata": {},
   "outputs": [],
   "source": [
    "df_month = df_all.groupby(['unique_id', '年月'])['y'].sum().reset_index()"
   ]
  },
  {
   "cell_type": "code",
   "execution_count": 24,
   "metadata": {},
   "outputs": [],
   "source": [
    "df_month = df_month.rename(columns={'年月':'ds'})"
   ]
  },
  {
   "cell_type": "code",
   "execution_count": 25,
   "metadata": {},
   "outputs": [],
   "source": [
    "df_month['ds'] = pd.to_datetime(df_all['ds'],format='%Y%m')"
   ]
  },
  {
   "cell_type": "code",
   "execution_count": 26,
   "metadata": {},
   "outputs": [],
   "source": [
    "df_month['unique_id'] = df_month['unique_id'].astype('str').astype('category')\n",
    "df_month = df_month.sort_values(['unique_id', 'ds'])"
   ]
  },
  {
   "cell_type": "code",
   "execution_count": 27,
   "metadata": {},
   "outputs": [
    {
     "data": {
      "application/vnd.plotly.v1+json": {
       "config": {
        "plotlyServerURL": "https://plot.ly"
       },
       "data": [
        {
         "legendgroup": "y",
         "line": {
          "color": "#1f77b4",
          "width": 1
         },
         "mode": "lines",
         "name": "y",
         "showlegend": true,
         "type": "scatter",
         "x": [
          "2021-03-11T00:00:00",
          "2021-03-17T00:00:00",
          "2021-03-22T00:00:00",
          "2021-03-23T00:00:00",
          "2021-03-27T00:00:00",
          "2021-03-29T00:00:00",
          "2021-04-06T00:00:00",
          "2021-04-09T00:00:00",
          "2021-04-14T00:00:00"
         ],
         "xaxis": "x",
         "y": [
          2,
          3,
          1,
          1,
          1,
          15,
          3,
          34,
          1
         ],
         "yaxis": "y"
        },
        {
         "legendgroup": "y",
         "line": {
          "color": "#1f77b4",
          "width": 1
         },
         "mode": "lines",
         "name": "y",
         "showlegend": false,
         "type": "scatter",
         "x": [
          "2021-08-19T00:00:00",
          "2021-08-20T00:00:00",
          "2021-08-21T00:00:00",
          "2021-08-22T00:00:00"
         ],
         "xaxis": "x2",
         "y": [
          1,
          1,
          1,
          3
         ],
         "yaxis": "y2"
        },
        {
         "legendgroup": "y",
         "line": {
          "color": "#1f77b4",
          "width": 1
         },
         "mode": "lines",
         "name": "y",
         "showlegend": false,
         "type": "scatter",
         "x": [
          "2022-10-28T00:00:00",
          "2022-10-29T00:00:00"
         ],
         "xaxis": "x3",
         "y": [
          292,
          12
         ],
         "yaxis": "y3"
        },
        {
         "legendgroup": "y",
         "line": {
          "color": "#1f77b4",
          "width": 1
         },
         "mode": "lines",
         "name": "y",
         "showlegend": false,
         "type": "scatter",
         "x": [
          "2022-01-07T00:00:00",
          "2022-01-08T00:00:00",
          "2022-01-09T00:00:00",
          "2022-01-10T00:00:00",
          "2022-01-12T00:00:00",
          "2022-01-15T00:00:00",
          "2022-01-19T00:00:00",
          "2022-02-08T00:00:00",
          "2022-02-10T00:00:00",
          "2022-02-11T00:00:00"
         ],
         "xaxis": "x4",
         "y": [
          480,
          246,
          361,
          141,
          190,
          153,
          1,
          128,
          60,
          124
         ],
         "yaxis": "y4"
        },
        {
         "legendgroup": "y",
         "line": {
          "color": "#1f77b4",
          "width": 1
         },
         "mode": "lines",
         "name": "y",
         "showlegend": false,
         "type": "scatter",
         "x": [
          "2022-12-19T00:00:00",
          "2023-01-05T00:00:00"
         ],
         "xaxis": "x5",
         "y": [
          51,
          2
         ],
         "yaxis": "y5"
        },
        {
         "legendgroup": "y",
         "line": {
          "color": "#1f77b4",
          "width": 1
         },
         "mode": "lines",
         "name": "y",
         "showlegend": false,
         "type": "scatter",
         "x": [
          "2021-05-06T00:00:00",
          "2021-05-07T00:00:00"
         ],
         "xaxis": "x6",
         "y": [
          1,
          1
         ],
         "yaxis": "y6"
        },
        {
         "legendgroup": "y",
         "line": {
          "color": "#1f77b4",
          "width": 1
         },
         "mode": "lines",
         "name": "y",
         "showlegend": false,
         "type": "scatter",
         "x": [
          "2022-05-22T00:00:00",
          "2022-05-23T00:00:00",
          "2022-05-24T00:00:00"
         ],
         "xaxis": "x7",
         "y": [
          1,
          1,
          1
         ],
         "yaxis": "y7"
        },
        {
         "legendgroup": "y",
         "line": {
          "color": "#1f77b4",
          "width": 1
         },
         "mode": "lines",
         "name": "y",
         "showlegend": false,
         "type": "scatter",
         "x": [
          "2021-04-17T00:00:00"
         ],
         "xaxis": "x8",
         "y": [
          1015
         ],
         "yaxis": "y8"
        }
       ],
       "layout": {
        "annotations": [
         {
          "font": {
           "size": 10
          },
          "showarrow": false,
          "text": "60EBE0053C278ED8C28C42902EA4D4F5",
          "x": 0.23249999999999998,
          "xanchor": "center",
          "xref": "paper",
          "y": 1,
          "yanchor": "bottom",
          "yref": "paper"
         },
         {
          "font": {
           "size": 10
          },
          "showarrow": false,
          "text": "BFE9E58B115CBFB629850BD8E69EBE20",
          "x": 0.7674999999999998,
          "xanchor": "center",
          "xref": "paper",
          "y": 1,
          "yanchor": "bottom",
          "yref": "paper"
         },
         {
          "font": {
           "size": 10
          },
          "showarrow": false,
          "text": "FF68144894663396FF74A3B13071694D",
          "x": 0.23249999999999998,
          "xanchor": "center",
          "xref": "paper",
          "y": 0.7250000000000001,
          "yanchor": "bottom",
          "yref": "paper"
         },
         {
          "font": {
           "size": 10
          },
          "showarrow": false,
          "text": "39D6E832AB9C614968810C5A18A31977",
          "x": 0.7674999999999998,
          "xanchor": "center",
          "xref": "paper",
          "y": 0.7250000000000001,
          "yanchor": "bottom",
          "yref": "paper"
         },
         {
          "font": {
           "size": 10
          },
          "showarrow": false,
          "text": "0A59586A4B0AC138607D7BEA084120CF",
          "x": 0.23249999999999998,
          "xanchor": "center",
          "xref": "paper",
          "y": 0.45,
          "yanchor": "bottom",
          "yref": "paper"
         },
         {
          "font": {
           "size": 10
          },
          "showarrow": false,
          "text": "B01EF4332DCFEDAC77361E51F972E0A5",
          "x": 0.7674999999999998,
          "xanchor": "center",
          "xref": "paper",
          "y": 0.45,
          "yanchor": "bottom",
          "yref": "paper"
         },
         {
          "font": {
           "size": 10
          },
          "showarrow": false,
          "text": "CA16C80D7F096C5943EE9CCCCBEED6D1",
          "x": 0.23249999999999998,
          "xanchor": "center",
          "xref": "paper",
          "y": 0.175,
          "yanchor": "bottom",
          "yref": "paper"
         },
         {
          "font": {
           "size": 10
          },
          "showarrow": false,
          "text": "99D35055BF130A6E76DEDA239D3EBF9C",
          "x": 0.7674999999999998,
          "xanchor": "center",
          "xref": "paper",
          "y": 0.175,
          "yanchor": "bottom",
          "yref": "paper"
         },
         {
          "font": {
           "size": 10
          },
          "showarrow": false,
          "text": "Datestamp [ds]",
          "x": 0.5,
          "xanchor": "center",
          "xref": "paper",
          "y": 0,
          "yanchor": "top",
          "yref": "paper",
          "yshift": -30
         },
         {
          "font": {
           "size": 10
          },
          "showarrow": false,
          "text": "Target [y]",
          "textangle": -90,
          "x": 0,
          "xanchor": "right",
          "xref": "paper",
          "xshift": -40,
          "y": 0.5,
          "yanchor": "middle",
          "yref": "paper"
         }
        ],
        "autosize": true,
        "font": {
         "size": 10
        },
        "height": 600,
        "margin": {
         "b": 50,
         "l": 60,
         "r": 10,
         "t": 20
        },
        "template": {
         "data": {
          "bar": [
           {
            "error_x": {
             "color": "#2a3f5f"
            },
            "error_y": {
             "color": "#2a3f5f"
            },
            "marker": {
             "line": {
              "color": "white",
              "width": 0.5
             },
             "pattern": {
              "fillmode": "overlay",
              "size": 10,
              "solidity": 0.2
             }
            },
            "type": "bar"
           }
          ],
          "barpolar": [
           {
            "marker": {
             "line": {
              "color": "white",
              "width": 0.5
             },
             "pattern": {
              "fillmode": "overlay",
              "size": 10,
              "solidity": 0.2
             }
            },
            "type": "barpolar"
           }
          ],
          "carpet": [
           {
            "aaxis": {
             "endlinecolor": "#2a3f5f",
             "gridcolor": "#C8D4E3",
             "linecolor": "#C8D4E3",
             "minorgridcolor": "#C8D4E3",
             "startlinecolor": "#2a3f5f"
            },
            "baxis": {
             "endlinecolor": "#2a3f5f",
             "gridcolor": "#C8D4E3",
             "linecolor": "#C8D4E3",
             "minorgridcolor": "#C8D4E3",
             "startlinecolor": "#2a3f5f"
            },
            "type": "carpet"
           }
          ],
          "choropleth": [
           {
            "colorbar": {
             "outlinewidth": 0,
             "ticks": ""
            },
            "type": "choropleth"
           }
          ],
          "contour": [
           {
            "colorbar": {
             "outlinewidth": 0,
             "ticks": ""
            },
            "colorscale": [
             [
              0,
              "#0d0887"
             ],
             [
              0.1111111111111111,
              "#46039f"
             ],
             [
              0.2222222222222222,
              "#7201a8"
             ],
             [
              0.3333333333333333,
              "#9c179e"
             ],
             [
              0.4444444444444444,
              "#bd3786"
             ],
             [
              0.5555555555555556,
              "#d8576b"
             ],
             [
              0.6666666666666666,
              "#ed7953"
             ],
             [
              0.7777777777777778,
              "#fb9f3a"
             ],
             [
              0.8888888888888888,
              "#fdca26"
             ],
             [
              1,
              "#f0f921"
             ]
            ],
            "type": "contour"
           }
          ],
          "contourcarpet": [
           {
            "colorbar": {
             "outlinewidth": 0,
             "ticks": ""
            },
            "type": "contourcarpet"
           }
          ],
          "heatmap": [
           {
            "colorbar": {
             "outlinewidth": 0,
             "ticks": ""
            },
            "colorscale": [
             [
              0,
              "#0d0887"
             ],
             [
              0.1111111111111111,
              "#46039f"
             ],
             [
              0.2222222222222222,
              "#7201a8"
             ],
             [
              0.3333333333333333,
              "#9c179e"
             ],
             [
              0.4444444444444444,
              "#bd3786"
             ],
             [
              0.5555555555555556,
              "#d8576b"
             ],
             [
              0.6666666666666666,
              "#ed7953"
             ],
             [
              0.7777777777777778,
              "#fb9f3a"
             ],
             [
              0.8888888888888888,
              "#fdca26"
             ],
             [
              1,
              "#f0f921"
             ]
            ],
            "type": "heatmap"
           }
          ],
          "heatmapgl": [
           {
            "colorbar": {
             "outlinewidth": 0,
             "ticks": ""
            },
            "colorscale": [
             [
              0,
              "#0d0887"
             ],
             [
              0.1111111111111111,
              "#46039f"
             ],
             [
              0.2222222222222222,
              "#7201a8"
             ],
             [
              0.3333333333333333,
              "#9c179e"
             ],
             [
              0.4444444444444444,
              "#bd3786"
             ],
             [
              0.5555555555555556,
              "#d8576b"
             ],
             [
              0.6666666666666666,
              "#ed7953"
             ],
             [
              0.7777777777777778,
              "#fb9f3a"
             ],
             [
              0.8888888888888888,
              "#fdca26"
             ],
             [
              1,
              "#f0f921"
             ]
            ],
            "type": "heatmapgl"
           }
          ],
          "histogram": [
           {
            "marker": {
             "pattern": {
              "fillmode": "overlay",
              "size": 10,
              "solidity": 0.2
             }
            },
            "type": "histogram"
           }
          ],
          "histogram2d": [
           {
            "colorbar": {
             "outlinewidth": 0,
             "ticks": ""
            },
            "colorscale": [
             [
              0,
              "#0d0887"
             ],
             [
              0.1111111111111111,
              "#46039f"
             ],
             [
              0.2222222222222222,
              "#7201a8"
             ],
             [
              0.3333333333333333,
              "#9c179e"
             ],
             [
              0.4444444444444444,
              "#bd3786"
             ],
             [
              0.5555555555555556,
              "#d8576b"
             ],
             [
              0.6666666666666666,
              "#ed7953"
             ],
             [
              0.7777777777777778,
              "#fb9f3a"
             ],
             [
              0.8888888888888888,
              "#fdca26"
             ],
             [
              1,
              "#f0f921"
             ]
            ],
            "type": "histogram2d"
           }
          ],
          "histogram2dcontour": [
           {
            "colorbar": {
             "outlinewidth": 0,
             "ticks": ""
            },
            "colorscale": [
             [
              0,
              "#0d0887"
             ],
             [
              0.1111111111111111,
              "#46039f"
             ],
             [
              0.2222222222222222,
              "#7201a8"
             ],
             [
              0.3333333333333333,
              "#9c179e"
             ],
             [
              0.4444444444444444,
              "#bd3786"
             ],
             [
              0.5555555555555556,
              "#d8576b"
             ],
             [
              0.6666666666666666,
              "#ed7953"
             ],
             [
              0.7777777777777778,
              "#fb9f3a"
             ],
             [
              0.8888888888888888,
              "#fdca26"
             ],
             [
              1,
              "#f0f921"
             ]
            ],
            "type": "histogram2dcontour"
           }
          ],
          "mesh3d": [
           {
            "colorbar": {
             "outlinewidth": 0,
             "ticks": ""
            },
            "type": "mesh3d"
           }
          ],
          "parcoords": [
           {
            "line": {
             "colorbar": {
              "outlinewidth": 0,
              "ticks": ""
             }
            },
            "type": "parcoords"
           }
          ],
          "pie": [
           {
            "automargin": true,
            "type": "pie"
           }
          ],
          "scatter": [
           {
            "fillpattern": {
             "fillmode": "overlay",
             "size": 10,
             "solidity": 0.2
            },
            "type": "scatter"
           }
          ],
          "scatter3d": [
           {
            "line": {
             "colorbar": {
              "outlinewidth": 0,
              "ticks": ""
             }
            },
            "marker": {
             "colorbar": {
              "outlinewidth": 0,
              "ticks": ""
             }
            },
            "type": "scatter3d"
           }
          ],
          "scattercarpet": [
           {
            "marker": {
             "colorbar": {
              "outlinewidth": 0,
              "ticks": ""
             }
            },
            "type": "scattercarpet"
           }
          ],
          "scattergeo": [
           {
            "marker": {
             "colorbar": {
              "outlinewidth": 0,
              "ticks": ""
             }
            },
            "type": "scattergeo"
           }
          ],
          "scattergl": [
           {
            "marker": {
             "colorbar": {
              "outlinewidth": 0,
              "ticks": ""
             }
            },
            "type": "scattergl"
           }
          ],
          "scattermapbox": [
           {
            "marker": {
             "colorbar": {
              "outlinewidth": 0,
              "ticks": ""
             }
            },
            "type": "scattermapbox"
           }
          ],
          "scatterpolar": [
           {
            "marker": {
             "colorbar": {
              "outlinewidth": 0,
              "ticks": ""
             }
            },
            "type": "scatterpolar"
           }
          ],
          "scatterpolargl": [
           {
            "marker": {
             "colorbar": {
              "outlinewidth": 0,
              "ticks": ""
             }
            },
            "type": "scatterpolargl"
           }
          ],
          "scatterternary": [
           {
            "marker": {
             "colorbar": {
              "outlinewidth": 0,
              "ticks": ""
             }
            },
            "type": "scatterternary"
           }
          ],
          "surface": [
           {
            "colorbar": {
             "outlinewidth": 0,
             "ticks": ""
            },
            "colorscale": [
             [
              0,
              "#0d0887"
             ],
             [
              0.1111111111111111,
              "#46039f"
             ],
             [
              0.2222222222222222,
              "#7201a8"
             ],
             [
              0.3333333333333333,
              "#9c179e"
             ],
             [
              0.4444444444444444,
              "#bd3786"
             ],
             [
              0.5555555555555556,
              "#d8576b"
             ],
             [
              0.6666666666666666,
              "#ed7953"
             ],
             [
              0.7777777777777778,
              "#fb9f3a"
             ],
             [
              0.8888888888888888,
              "#fdca26"
             ],
             [
              1,
              "#f0f921"
             ]
            ],
            "type": "surface"
           }
          ],
          "table": [
           {
            "cells": {
             "fill": {
              "color": "#EBF0F8"
             },
             "line": {
              "color": "white"
             }
            },
            "header": {
             "fill": {
              "color": "#C8D4E3"
             },
             "line": {
              "color": "white"
             }
            },
            "type": "table"
           }
          ]
         },
         "layout": {
          "annotationdefaults": {
           "arrowcolor": "#2a3f5f",
           "arrowhead": 0,
           "arrowwidth": 1
          },
          "autotypenumbers": "strict",
          "coloraxis": {
           "colorbar": {
            "outlinewidth": 0,
            "ticks": ""
           }
          },
          "colorscale": {
           "diverging": [
            [
             0,
             "#8e0152"
            ],
            [
             0.1,
             "#c51b7d"
            ],
            [
             0.2,
             "#de77ae"
            ],
            [
             0.3,
             "#f1b6da"
            ],
            [
             0.4,
             "#fde0ef"
            ],
            [
             0.5,
             "#f7f7f7"
            ],
            [
             0.6,
             "#e6f5d0"
            ],
            [
             0.7,
             "#b8e186"
            ],
            [
             0.8,
             "#7fbc41"
            ],
            [
             0.9,
             "#4d9221"
            ],
            [
             1,
             "#276419"
            ]
           ],
           "sequential": [
            [
             0,
             "#0d0887"
            ],
            [
             0.1111111111111111,
             "#46039f"
            ],
            [
             0.2222222222222222,
             "#7201a8"
            ],
            [
             0.3333333333333333,
             "#9c179e"
            ],
            [
             0.4444444444444444,
             "#bd3786"
            ],
            [
             0.5555555555555556,
             "#d8576b"
            ],
            [
             0.6666666666666666,
             "#ed7953"
            ],
            [
             0.7777777777777778,
             "#fb9f3a"
            ],
            [
             0.8888888888888888,
             "#fdca26"
            ],
            [
             1,
             "#f0f921"
            ]
           ],
           "sequentialminus": [
            [
             0,
             "#0d0887"
            ],
            [
             0.1111111111111111,
             "#46039f"
            ],
            [
             0.2222222222222222,
             "#7201a8"
            ],
            [
             0.3333333333333333,
             "#9c179e"
            ],
            [
             0.4444444444444444,
             "#bd3786"
            ],
            [
             0.5555555555555556,
             "#d8576b"
            ],
            [
             0.6666666666666666,
             "#ed7953"
            ],
            [
             0.7777777777777778,
             "#fb9f3a"
            ],
            [
             0.8888888888888888,
             "#fdca26"
            ],
            [
             1,
             "#f0f921"
            ]
           ]
          },
          "colorway": [
           "#636efa",
           "#EF553B",
           "#00cc96",
           "#ab63fa",
           "#FFA15A",
           "#19d3f3",
           "#FF6692",
           "#B6E880",
           "#FF97FF",
           "#FECB52"
          ],
          "font": {
           "color": "#2a3f5f"
          },
          "geo": {
           "bgcolor": "white",
           "lakecolor": "white",
           "landcolor": "white",
           "showlakes": true,
           "showland": true,
           "subunitcolor": "#C8D4E3"
          },
          "hoverlabel": {
           "align": "left"
          },
          "hovermode": "closest",
          "mapbox": {
           "style": "light"
          },
          "paper_bgcolor": "white",
          "plot_bgcolor": "white",
          "polar": {
           "angularaxis": {
            "gridcolor": "#EBF0F8",
            "linecolor": "#EBF0F8",
            "ticks": ""
           },
           "bgcolor": "white",
           "radialaxis": {
            "gridcolor": "#EBF0F8",
            "linecolor": "#EBF0F8",
            "ticks": ""
           }
          },
          "scene": {
           "xaxis": {
            "backgroundcolor": "white",
            "gridcolor": "#DFE8F3",
            "gridwidth": 2,
            "linecolor": "#EBF0F8",
            "showbackground": true,
            "ticks": "",
            "zerolinecolor": "#EBF0F8"
           },
           "yaxis": {
            "backgroundcolor": "white",
            "gridcolor": "#DFE8F3",
            "gridwidth": 2,
            "linecolor": "#EBF0F8",
            "showbackground": true,
            "ticks": "",
            "zerolinecolor": "#EBF0F8"
           },
           "zaxis": {
            "backgroundcolor": "white",
            "gridcolor": "#DFE8F3",
            "gridwidth": 2,
            "linecolor": "#EBF0F8",
            "showbackground": true,
            "ticks": "",
            "zerolinecolor": "#EBF0F8"
           }
          },
          "shapedefaults": {
           "line": {
            "color": "#2a3f5f"
           }
          },
          "ternary": {
           "aaxis": {
            "gridcolor": "#DFE8F3",
            "linecolor": "#A2B1C6",
            "ticks": ""
           },
           "baxis": {
            "gridcolor": "#DFE8F3",
            "linecolor": "#A2B1C6",
            "ticks": ""
           },
           "bgcolor": "white",
           "caxis": {
            "gridcolor": "#DFE8F3",
            "linecolor": "#A2B1C6",
            "ticks": ""
           }
          },
          "title": {
           "x": 0.05
          },
          "xaxis": {
           "automargin": true,
           "gridcolor": "#EBF0F8",
           "linecolor": "#EBF0F8",
           "ticks": "",
           "title": {
            "standoff": 15
           },
           "zerolinecolor": "#EBF0F8",
           "zerolinewidth": 2
          },
          "yaxis": {
           "automargin": true,
           "gridcolor": "#EBF0F8",
           "linecolor": "#EBF0F8",
           "ticks": "",
           "title": {
            "standoff": 15
           },
           "zerolinecolor": "#EBF0F8",
           "zerolinewidth": 2
          }
         }
        },
        "xaxis": {
         "anchor": "y",
         "domain": [
          0,
          0.46499999999999997
         ],
         "showticklabels": true,
         "visible": true
        },
        "xaxis2": {
         "anchor": "y2",
         "domain": [
          0.5349999999999999,
          0.9999999999999999
         ],
         "showticklabels": true,
         "visible": true
        },
        "xaxis3": {
         "anchor": "y3",
         "domain": [
          0,
          0.46499999999999997
         ],
         "showticklabels": true,
         "visible": true
        },
        "xaxis4": {
         "anchor": "y4",
         "domain": [
          0.5349999999999999,
          0.9999999999999999
         ],
         "showticklabels": true,
         "visible": true
        },
        "xaxis5": {
         "anchor": "y5",
         "domain": [
          0,
          0.46499999999999997
         ],
         "showticklabels": true,
         "visible": true
        },
        "xaxis6": {
         "anchor": "y6",
         "domain": [
          0.5349999999999999,
          0.9999999999999999
         ],
         "showticklabels": true,
         "visible": true
        },
        "xaxis7": {
         "anchor": "y7",
         "domain": [
          0,
          0.46499999999999997
         ],
         "showticklabels": true,
         "visible": true
        },
        "xaxis8": {
         "anchor": "y8",
         "domain": [
          0.5349999999999999,
          0.9999999999999999
         ],
         "showticklabels": true,
         "visible": true
        },
        "yaxis": {
         "anchor": "x",
         "domain": [
          0.825,
          1
         ]
        },
        "yaxis2": {
         "anchor": "x2",
         "domain": [
          0.825,
          1
         ]
        },
        "yaxis3": {
         "anchor": "x3",
         "domain": [
          0.55,
          0.7250000000000001
         ]
        },
        "yaxis4": {
         "anchor": "x4",
         "domain": [
          0.55,
          0.7250000000000001
         ]
        },
        "yaxis5": {
         "anchor": "x5",
         "domain": [
          0.275,
          0.45
         ]
        },
        "yaxis6": {
         "anchor": "x6",
         "domain": [
          0.275,
          0.45
         ]
        },
        "yaxis7": {
         "anchor": "x7",
         "domain": [
          0,
          0.175
         ]
        },
        "yaxis8": {
         "anchor": "x8",
         "domain": [
          0,
          0.175
         ]
        }
       }
      }
     },
     "metadata": {},
     "output_type": "display_data"
    }
   ],
   "source": [
    "StatsForecast.plot(df_month)"
   ]
  },
  {
   "cell_type": "code",
   "execution_count": 22,
   "metadata": {},
   "outputs": [],
   "source": [
    "models = [MSTL(\n",
    "    season_length=[7], # seasonalities of the time series \n",
    "    trend_forecaster=AutoARIMA() # model used to forecast trend\n",
    ")]"
   ]
  },
  {
   "cell_type": "code",
   "execution_count": 144,
   "metadata": {},
   "outputs": [],
   "source": [
    "sf = StatsForecast(\n",
    "    # models=models, # model used to fit each time series \n",
    "    models = [AutoARIMA(365)],\n",
    "    freq='D', # frequency of the data\n",
    "    n_jobs=-1\n",
    ")"
   ]
  },
  {
   "cell_type": "code",
   "execution_count": 145,
   "metadata": {},
   "outputs": [],
   "source": [
    "horizon = 90"
   ]
  },
  {
   "cell_type": "code",
   "execution_count": 146,
   "metadata": {},
   "outputs": [
    {
     "name": "stdout",
     "output_type": "stream",
     "text": [
      "000E155E93AC7F454684F7B48B59C169\n"
     ]
    },
    {
     "name": "stderr",
     "output_type": "stream",
     "text": [
      "/Users/shnguo/miniconda3/lib/python3.9/site-packages/statsforecast/arima.py:1923: UserWarning: Having 3 or more differencing operations is not recommended. Please consider reducing the total number of differences.\n",
      "  warnings.warn(\n",
      "Process SpawnPoolWorker-142:\n",
      "Process SpawnPoolWorker-143:\n",
      "Process SpawnPoolWorker-144:\n",
      "Process SpawnPoolWorker-141:\n",
      "Process SpawnPoolWorker-138:\n",
      "Process SpawnPoolWorker-139:\n",
      "Process SpawnPoolWorker-140:\n",
      "Traceback (most recent call last):\n",
      "  File \"/Users/shnguo/miniconda3/lib/python3.9/multiprocessing/process.py\", line 315, in _bootstrap\n",
      "    self.run()\n",
      "  File \"/Users/shnguo/miniconda3/lib/python3.9/multiprocessing/process.py\", line 108, in run\n",
      "    self._target(*self._args, **self._kwargs)\n",
      "  File \"/Users/shnguo/miniconda3/lib/python3.9/multiprocessing/pool.py\", line 114, in worker\n",
      "    task = get()\n",
      "  File \"/Users/shnguo/miniconda3/lib/python3.9/multiprocessing/queues.py\", line 365, in get\n",
      "    with self._rlock:\n",
      "  File \"/Users/shnguo/miniconda3/lib/python3.9/multiprocessing/synchronize.py\", line 95, in __enter__\n",
      "    return self._semlock.__enter__()\n",
      "Traceback (most recent call last):\n",
      "KeyboardInterrupt\n",
      "  File \"/Users/shnguo/miniconda3/lib/python3.9/multiprocessing/process.py\", line 315, in _bootstrap\n",
      "    self.run()\n",
      "  File \"/Users/shnguo/miniconda3/lib/python3.9/multiprocessing/process.py\", line 108, in run\n",
      "    self._target(*self._args, **self._kwargs)\n",
      "  File \"/Users/shnguo/miniconda3/lib/python3.9/multiprocessing/pool.py\", line 114, in worker\n",
      "    task = get()\n",
      "  File \"/Users/shnguo/miniconda3/lib/python3.9/multiprocessing/queues.py\", line 365, in get\n",
      "    with self._rlock:\n",
      "  File \"/Users/shnguo/miniconda3/lib/python3.9/multiprocessing/synchronize.py\", line 95, in __enter__\n",
      "    return self._semlock.__enter__()\n",
      "KeyboardInterrupt\n",
      "Traceback (most recent call last):\n",
      "  File \"/Users/shnguo/miniconda3/lib/python3.9/multiprocessing/process.py\", line 315, in _bootstrap\n",
      "    self.run()\n",
      "  File \"/Users/shnguo/miniconda3/lib/python3.9/multiprocessing/process.py\", line 108, in run\n",
      "    self._target(*self._args, **self._kwargs)\n",
      "  File \"/Users/shnguo/miniconda3/lib/python3.9/multiprocessing/pool.py\", line 114, in worker\n",
      "    task = get()\n",
      "  File \"/Users/shnguo/miniconda3/lib/python3.9/multiprocessing/queues.py\", line 365, in get\n",
      "    with self._rlock:\n",
      "  File \"/Users/shnguo/miniconda3/lib/python3.9/multiprocessing/synchronize.py\", line 95, in __enter__\n",
      "    return self._semlock.__enter__()\n",
      "KeyboardInterrupt\n",
      "Traceback (most recent call last):\n",
      "  File \"/Users/shnguo/miniconda3/lib/python3.9/multiprocessing/process.py\", line 315, in _bootstrap\n",
      "    self.run()\n",
      "  File \"/Users/shnguo/miniconda3/lib/python3.9/multiprocessing/process.py\", line 108, in run\n",
      "    self._target(*self._args, **self._kwargs)\n",
      "  File \"/Users/shnguo/miniconda3/lib/python3.9/multiprocessing/pool.py\", line 114, in worker\n",
      "    task = get()\n",
      "  File \"/Users/shnguo/miniconda3/lib/python3.9/multiprocessing/queues.py\", line 365, in get\n",
      "    with self._rlock:\n",
      "  File \"/Users/shnguo/miniconda3/lib/python3.9/multiprocessing/synchronize.py\", line 95, in __enter__\n",
      "    return self._semlock.__enter__()\n",
      "KeyboardInterrupt\n",
      "Traceback (most recent call last):\n",
      "  File \"/Users/shnguo/miniconda3/lib/python3.9/multiprocessing/process.py\", line 315, in _bootstrap\n",
      "    self.run()\n",
      "  File \"/Users/shnguo/miniconda3/lib/python3.9/multiprocessing/process.py\", line 108, in run\n",
      "    self._target(*self._args, **self._kwargs)\n",
      "  File \"/Users/shnguo/miniconda3/lib/python3.9/multiprocessing/pool.py\", line 114, in worker\n",
      "    task = get()\n",
      "  File \"/Users/shnguo/miniconda3/lib/python3.9/multiprocessing/queues.py\", line 365, in get\n",
      "    with self._rlock:\n",
      "  File \"/Users/shnguo/miniconda3/lib/python3.9/multiprocessing/synchronize.py\", line 95, in __enter__\n",
      "    return self._semlock.__enter__()\n",
      "KeyboardInterrupt\n",
      "Traceback (most recent call last):\n",
      "Traceback (most recent call last):\n",
      "  File \"/Users/shnguo/miniconda3/lib/python3.9/multiprocessing/process.py\", line 315, in _bootstrap\n",
      "    self.run()\n",
      "  File \"/Users/shnguo/miniconda3/lib/python3.9/multiprocessing/process.py\", line 108, in run\n",
      "    self._target(*self._args, **self._kwargs)\n",
      "  File \"/Users/shnguo/miniconda3/lib/python3.9/multiprocessing/process.py\", line 315, in _bootstrap\n",
      "    self.run()\n",
      "  File \"/Users/shnguo/miniconda3/lib/python3.9/multiprocessing/pool.py\", line 114, in worker\n",
      "    task = get()\n",
      "  File \"/Users/shnguo/miniconda3/lib/python3.9/multiprocessing/process.py\", line 108, in run\n",
      "    self._target(*self._args, **self._kwargs)\n",
      "  File \"/Users/shnguo/miniconda3/lib/python3.9/multiprocessing/queues.py\", line 365, in get\n",
      "    with self._rlock:\n",
      "  File \"/Users/shnguo/miniconda3/lib/python3.9/multiprocessing/pool.py\", line 114, in worker\n",
      "    task = get()\n",
      "  File \"/Users/shnguo/miniconda3/lib/python3.9/multiprocessing/synchronize.py\", line 95, in __enter__\n",
      "    return self._semlock.__enter__()\n",
      "  File \"/Users/shnguo/miniconda3/lib/python3.9/multiprocessing/queues.py\", line 366, in get\n",
      "    res = self._reader.recv_bytes()\n",
      "  File \"/Users/shnguo/miniconda3/lib/python3.9/multiprocessing/connection.py\", line 221, in recv_bytes\n",
      "    buf = self._recv_bytes(maxlength)\n",
      "  File \"/Users/shnguo/miniconda3/lib/python3.9/multiprocessing/connection.py\", line 419, in _recv_bytes\n",
      "    buf = self._recv(4)\n",
      "  File \"/Users/shnguo/miniconda3/lib/python3.9/multiprocessing/connection.py\", line 384, in _recv\n",
      "    chunk = read(handle, remaining)\n",
      "KeyboardInterrupt\n",
      "KeyboardInterrupt\n"
     ]
    },
    {
     "ename": "KeyboardInterrupt",
     "evalue": "",
     "output_type": "error",
     "traceback": [
      "\u001b[0;31m---------------------------------------------------------------------------\u001b[0m",
      "\u001b[0;31mKeyboardInterrupt\u001b[0m                         Traceback (most recent call last)",
      "\u001b[1;32m/Users/shnguo/github/opple/mstl.ipynb 单元格 14\u001b[0m in \u001b[0;36m<cell line: 1>\u001b[0;34m()\u001b[0m\n\u001b[1;32m      <a href='vscode-notebook-cell:/Users/shnguo/github/opple/mstl.ipynb#X15sZmlsZQ%3D%3D?line=0'>1</a>\u001b[0m \u001b[39mfor\u001b[39;00m uniq \u001b[39min\u001b[39;00m df4[\u001b[39m'\u001b[39m\u001b[39munique_id\u001b[39m\u001b[39m'\u001b[39m]\u001b[39m.\u001b[39munique():\n\u001b[1;32m      <a href='vscode-notebook-cell:/Users/shnguo/github/opple/mstl.ipynb#X15sZmlsZQ%3D%3D?line=1'>2</a>\u001b[0m     \u001b[39mprint\u001b[39m(uniq)\n\u001b[0;32m----> <a href='vscode-notebook-cell:/Users/shnguo/github/opple/mstl.ipynb#X15sZmlsZQ%3D%3D?line=2'>3</a>\u001b[0m     sf \u001b[39m=\u001b[39m sf\u001b[39m.\u001b[39;49mfit(df4[df4[\u001b[39m'\u001b[39;49m\u001b[39munique_id\u001b[39;49m\u001b[39m'\u001b[39;49m]\u001b[39m==\u001b[39;49muniq]\u001b[39m.\u001b[39;49mreset_index()[[\u001b[39m'\u001b[39;49m\u001b[39munique_id\u001b[39;49m\u001b[39m'\u001b[39;49m,\u001b[39m'\u001b[39;49m\u001b[39mds\u001b[39;49m\u001b[39m'\u001b[39;49m,\u001b[39m'\u001b[39;49m\u001b[39my\u001b[39;49m\u001b[39m'\u001b[39;49m]])\n\u001b[1;32m      <a href='vscode-notebook-cell:/Users/shnguo/github/opple/mstl.ipynb#X15sZmlsZQ%3D%3D?line=3'>4</a>\u001b[0m     Y_hat_df \u001b[39m=\u001b[39m sf\u001b[39m.\u001b[39mforecast(horizon)\n",
      "File \u001b[0;32m~/miniconda3/lib/python3.9/site-packages/statsforecast/core.py:581\u001b[0m, in \u001b[0;36m_StatsForecast.fit\u001b[0;34m(self, df, sort_df)\u001b[0m\n\u001b[1;32m    579\u001b[0m     \u001b[39mself\u001b[39m\u001b[39m.\u001b[39mfitted_ \u001b[39m=\u001b[39m \u001b[39mself\u001b[39m\u001b[39m.\u001b[39mga\u001b[39m.\u001b[39mfit(models\u001b[39m=\u001b[39m\u001b[39mself\u001b[39m\u001b[39m.\u001b[39mmodels)\n\u001b[1;32m    580\u001b[0m \u001b[39melse\u001b[39;00m:\n\u001b[0;32m--> 581\u001b[0m     \u001b[39mself\u001b[39m\u001b[39m.\u001b[39mfitted_ \u001b[39m=\u001b[39m \u001b[39mself\u001b[39;49m\u001b[39m.\u001b[39;49m_fit_parallel()\n\u001b[1;32m    582\u001b[0m \u001b[39mreturn\u001b[39;00m \u001b[39mself\u001b[39m\n",
      "File \u001b[0;32m~/miniconda3/lib/python3.9/site-packages/statsforecast/core.py:940\u001b[0m, in \u001b[0;36m_StatsForecast._fit_parallel\u001b[0;34m(self)\u001b[0m\n\u001b[1;32m    938\u001b[0m         future \u001b[39m=\u001b[39m executor\u001b[39m.\u001b[39mapply_async(ga\u001b[39m.\u001b[39mfit, (\u001b[39mself\u001b[39m\u001b[39m.\u001b[39mmodels,))\n\u001b[1;32m    939\u001b[0m         futures\u001b[39m.\u001b[39mappend(future)\n\u001b[0;32m--> 940\u001b[0m     fm \u001b[39m=\u001b[39m np\u001b[39m.\u001b[39mvstack([f\u001b[39m.\u001b[39mget() \u001b[39mfor\u001b[39;00m f \u001b[39min\u001b[39;00m futures])\n\u001b[1;32m    941\u001b[0m \u001b[39mreturn\u001b[39;00m fm\n",
      "File \u001b[0;32m~/miniconda3/lib/python3.9/site-packages/statsforecast/core.py:940\u001b[0m, in \u001b[0;36m<listcomp>\u001b[0;34m(.0)\u001b[0m\n\u001b[1;32m    938\u001b[0m         future \u001b[39m=\u001b[39m executor\u001b[39m.\u001b[39mapply_async(ga\u001b[39m.\u001b[39mfit, (\u001b[39mself\u001b[39m\u001b[39m.\u001b[39mmodels,))\n\u001b[1;32m    939\u001b[0m         futures\u001b[39m.\u001b[39mappend(future)\n\u001b[0;32m--> 940\u001b[0m     fm \u001b[39m=\u001b[39m np\u001b[39m.\u001b[39mvstack([f\u001b[39m.\u001b[39;49mget() \u001b[39mfor\u001b[39;00m f \u001b[39min\u001b[39;00m futures])\n\u001b[1;32m    941\u001b[0m \u001b[39mreturn\u001b[39;00m fm\n",
      "File \u001b[0;32m~/miniconda3/lib/python3.9/multiprocessing/pool.py:765\u001b[0m, in \u001b[0;36mApplyResult.get\u001b[0;34m(self, timeout)\u001b[0m\n\u001b[1;32m    764\u001b[0m \u001b[39mdef\u001b[39;00m \u001b[39mget\u001b[39m(\u001b[39mself\u001b[39m, timeout\u001b[39m=\u001b[39m\u001b[39mNone\u001b[39;00m):\n\u001b[0;32m--> 765\u001b[0m     \u001b[39mself\u001b[39;49m\u001b[39m.\u001b[39;49mwait(timeout)\n\u001b[1;32m    766\u001b[0m     \u001b[39mif\u001b[39;00m \u001b[39mnot\u001b[39;00m \u001b[39mself\u001b[39m\u001b[39m.\u001b[39mready():\n\u001b[1;32m    767\u001b[0m         \u001b[39mraise\u001b[39;00m \u001b[39mTimeoutError\u001b[39;00m\n",
      "File \u001b[0;32m~/miniconda3/lib/python3.9/multiprocessing/pool.py:762\u001b[0m, in \u001b[0;36mApplyResult.wait\u001b[0;34m(self, timeout)\u001b[0m\n\u001b[1;32m    761\u001b[0m \u001b[39mdef\u001b[39;00m \u001b[39mwait\u001b[39m(\u001b[39mself\u001b[39m, timeout\u001b[39m=\u001b[39m\u001b[39mNone\u001b[39;00m):\n\u001b[0;32m--> 762\u001b[0m     \u001b[39mself\u001b[39;49m\u001b[39m.\u001b[39;49m_event\u001b[39m.\u001b[39;49mwait(timeout)\n",
      "File \u001b[0;32m~/miniconda3/lib/python3.9/threading.py:574\u001b[0m, in \u001b[0;36mEvent.wait\u001b[0;34m(self, timeout)\u001b[0m\n\u001b[1;32m    572\u001b[0m signaled \u001b[39m=\u001b[39m \u001b[39mself\u001b[39m\u001b[39m.\u001b[39m_flag\n\u001b[1;32m    573\u001b[0m \u001b[39mif\u001b[39;00m \u001b[39mnot\u001b[39;00m signaled:\n\u001b[0;32m--> 574\u001b[0m     signaled \u001b[39m=\u001b[39m \u001b[39mself\u001b[39;49m\u001b[39m.\u001b[39;49m_cond\u001b[39m.\u001b[39;49mwait(timeout)\n\u001b[1;32m    575\u001b[0m \u001b[39mreturn\u001b[39;00m signaled\n",
      "File \u001b[0;32m~/miniconda3/lib/python3.9/threading.py:312\u001b[0m, in \u001b[0;36mCondition.wait\u001b[0;34m(self, timeout)\u001b[0m\n\u001b[1;32m    310\u001b[0m \u001b[39mtry\u001b[39;00m:    \u001b[39m# restore state no matter what (e.g., KeyboardInterrupt)\u001b[39;00m\n\u001b[1;32m    311\u001b[0m     \u001b[39mif\u001b[39;00m timeout \u001b[39mis\u001b[39;00m \u001b[39mNone\u001b[39;00m:\n\u001b[0;32m--> 312\u001b[0m         waiter\u001b[39m.\u001b[39;49macquire()\n\u001b[1;32m    313\u001b[0m         gotit \u001b[39m=\u001b[39m \u001b[39mTrue\u001b[39;00m\n\u001b[1;32m    314\u001b[0m     \u001b[39melse\u001b[39;00m:\n",
      "\u001b[0;31mKeyboardInterrupt\u001b[0m: "
     ]
    }
   ],
   "source": [
    "for uniq in df4['unique_id'].unique():\n",
    "    print(uniq)\n",
    "    sf = sf.fit(df4[df4['unique_id']==uniq].reset_index()[['unique_id','ds','y']])\n",
    "    Y_hat_df = sf.forecast(horizon)"
   ]
  },
  {
   "cell_type": "code",
   "execution_count": 142,
   "metadata": {},
   "outputs": [
    {
     "data": {
      "text/html": [
       "<div>\n",
       "<style scoped>\n",
       "    .dataframe tbody tr th:only-of-type {\n",
       "        vertical-align: middle;\n",
       "    }\n",
       "\n",
       "    .dataframe tbody tr th {\n",
       "        vertical-align: top;\n",
       "    }\n",
       "\n",
       "    .dataframe thead th {\n",
       "        text-align: right;\n",
       "    }\n",
       "</style>\n",
       "<table border=\"1\" class=\"dataframe\">\n",
       "  <thead>\n",
       "    <tr style=\"text-align: right;\">\n",
       "      <th></th>\n",
       "      <th>unique_id</th>\n",
       "      <th>ds</th>\n",
       "      <th>y</th>\n",
       "    </tr>\n",
       "  </thead>\n",
       "  <tbody>\n",
       "    <tr>\n",
       "      <th>0</th>\n",
       "      <td>000E155E93AC7F454684F7B48B59C169</td>\n",
       "      <td>2021-01-01</td>\n",
       "      <td>0.0</td>\n",
       "    </tr>\n",
       "    <tr>\n",
       "      <th>1</th>\n",
       "      <td>000E155E93AC7F454684F7B48B59C169</td>\n",
       "      <td>2021-01-01</td>\n",
       "      <td>0.0</td>\n",
       "    </tr>\n",
       "    <tr>\n",
       "      <th>2</th>\n",
       "      <td>000E155E93AC7F454684F7B48B59C169</td>\n",
       "      <td>2021-01-01</td>\n",
       "      <td>0.0</td>\n",
       "    </tr>\n",
       "    <tr>\n",
       "      <th>3</th>\n",
       "      <td>000E155E93AC7F454684F7B48B59C169</td>\n",
       "      <td>2021-01-01</td>\n",
       "      <td>0.0</td>\n",
       "    </tr>\n",
       "    <tr>\n",
       "      <th>4</th>\n",
       "      <td>000E155E93AC7F454684F7B48B59C169</td>\n",
       "      <td>2021-01-01</td>\n",
       "      <td>0.0</td>\n",
       "    </tr>\n",
       "    <tr>\n",
       "      <th>...</th>\n",
       "      <td>...</td>\n",
       "      <td>...</td>\n",
       "      <td>...</td>\n",
       "    </tr>\n",
       "    <tr>\n",
       "      <th>29188</th>\n",
       "      <td>000E155E93AC7F454684F7B48B59C169</td>\n",
       "      <td>2023-02-28</td>\n",
       "      <td>0.0</td>\n",
       "    </tr>\n",
       "    <tr>\n",
       "      <th>29189</th>\n",
       "      <td>000E155E93AC7F454684F7B48B59C169</td>\n",
       "      <td>2023-02-28</td>\n",
       "      <td>0.0</td>\n",
       "    </tr>\n",
       "    <tr>\n",
       "      <th>29190</th>\n",
       "      <td>000E155E93AC7F454684F7B48B59C169</td>\n",
       "      <td>2023-02-28</td>\n",
       "      <td>0.0</td>\n",
       "    </tr>\n",
       "    <tr>\n",
       "      <th>29191</th>\n",
       "      <td>000E155E93AC7F454684F7B48B59C169</td>\n",
       "      <td>2023-02-28</td>\n",
       "      <td>0.0</td>\n",
       "    </tr>\n",
       "    <tr>\n",
       "      <th>29192</th>\n",
       "      <td>000E155E93AC7F454684F7B48B59C169</td>\n",
       "      <td>2023-02-28</td>\n",
       "      <td>0.0</td>\n",
       "    </tr>\n",
       "  </tbody>\n",
       "</table>\n",
       "<p>29193 rows × 3 columns</p>\n",
       "</div>"
      ],
      "text/plain": [
       "                              unique_id         ds    y\n",
       "0      000E155E93AC7F454684F7B48B59C169 2021-01-01  0.0\n",
       "1      000E155E93AC7F454684F7B48B59C169 2021-01-01  0.0\n",
       "2      000E155E93AC7F454684F7B48B59C169 2021-01-01  0.0\n",
       "3      000E155E93AC7F454684F7B48B59C169 2021-01-01  0.0\n",
       "4      000E155E93AC7F454684F7B48B59C169 2021-01-01  0.0\n",
       "...                                 ...        ...  ...\n",
       "29188  000E155E93AC7F454684F7B48B59C169 2023-02-28  0.0\n",
       "29189  000E155E93AC7F454684F7B48B59C169 2023-02-28  0.0\n",
       "29190  000E155E93AC7F454684F7B48B59C169 2023-02-28  0.0\n",
       "29191  000E155E93AC7F454684F7B48B59C169 2023-02-28  0.0\n",
       "29192  000E155E93AC7F454684F7B48B59C169 2023-02-28  0.0\n",
       "\n",
       "[29193 rows x 3 columns]"
      ]
     },
     "execution_count": 142,
     "metadata": {},
     "output_type": "execute_result"
    }
   ],
   "source": [
    "df4[df4['unique_id']=='000E155E93AC7F454684F7B48B59C169'].reset_index()[['unique_id','ds','y']]"
   ]
  },
  {
   "cell_type": "code",
   "execution_count": 117,
   "metadata": {},
   "outputs": [],
   "source": [
    "dtr =pd.DataFrame(pd.date_range(df['ds'].min(),df['ds'].max()))"
   ]
  },
  {
   "cell_type": "code",
   "execution_count": 118,
   "metadata": {},
   "outputs": [],
   "source": [
    "dtr['j'] = 1"
   ]
  },
  {
   "cell_type": "code",
   "execution_count": 119,
   "metadata": {},
   "outputs": [],
   "source": [
    "df2 = pd.DataFrame({'unique_id':df['unique_id'],'j':1})"
   ]
  },
  {
   "cell_type": "code",
   "execution_count": 120,
   "metadata": {},
   "outputs": [],
   "source": [
    "df3 = pd.merge(dtr,df2)"
   ]
  },
  {
   "cell_type": "code",
   "execution_count": 121,
   "metadata": {},
   "outputs": [],
   "source": [
    "df3 = df3[[0,'unique_id']]"
   ]
  },
  {
   "cell_type": "code",
   "execution_count": 122,
   "metadata": {},
   "outputs": [],
   "source": [
    "df3 = df3.rename(columns={0:'ds'})"
   ]
  },
  {
   "cell_type": "code",
   "execution_count": 123,
   "metadata": {},
   "outputs": [],
   "source": [
    "df4 = pd.merge(df3,df,how='left')"
   ]
  },
  {
   "cell_type": "code",
   "execution_count": 124,
   "metadata": {},
   "outputs": [],
   "source": [
    "df4['y'] =df4['y'].fillna(0) "
   ]
  },
  {
   "cell_type": "code",
   "execution_count": 125,
   "metadata": {},
   "outputs": [],
   "source": [
    "df4 = df4[['unique_id','ds','y']]"
   ]
  },
  {
   "cell_type": "code",
   "execution_count": 106,
   "metadata": {},
   "outputs": [],
   "source": [
    "df5 = df4[:100]"
   ]
  },
  {
   "cell_type": "code",
   "execution_count": 132,
   "metadata": {},
   "outputs": [
    {
     "data": {
      "text/plain": [
       "unique_id          category\n",
       "ds           datetime64[ns]\n",
       "y                   float64\n",
       "dtype: object"
      ]
     },
     "execution_count": 132,
     "metadata": {},
     "output_type": "execute_result"
    }
   ],
   "source": [
    "df4.dtypes"
   ]
  },
  {
   "cell_type": "code",
   "execution_count": null,
   "metadata": {},
   "outputs": [],
   "source": []
  }
 ],
 "metadata": {
  "kernelspec": {
   "display_name": "base",
   "language": "python",
   "name": "python3"
  },
  "language_info": {
   "codemirror_mode": {
    "name": "ipython",
    "version": 3
   },
   "file_extension": ".py",
   "mimetype": "text/x-python",
   "name": "python",
   "nbconvert_exporter": "python",
   "pygments_lexer": "ipython3",
   "version": "3.9.12"
  },
  "orig_nbformat": 4
 },
 "nbformat": 4,
 "nbformat_minor": 2
}
